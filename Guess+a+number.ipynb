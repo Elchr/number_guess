{
 "cells": [
  {
   "cell_type": "code",
   "execution_count": 3,
   "metadata": {},
   "outputs": [
    {
     "name": "stdout",
     "output_type": "stream",
     "text": [
      "--------Guess A Number--------\n",
      "You wanna play? Choose 1 to begin or 2 for exit.\n",
      "1\n",
      "Guess a number between 1-100 (or 999 for exit):\t50\n",
      "NO, choose a bigger one. \n",
      "\n",
      "Guess a number between 1-100 (or 999 for exit):\t60\n",
      "NO, choose a bigger one. \n",
      "\n",
      "Guess a number between 1-100 (or 999 for exit):\t70\n",
      "NO, choose a smaller one. \n",
      "\n",
      "Guess a number between 1-100 (or 999 for exit):\t65\n",
      "\n",
      " You find it after 4 tries.\n",
      "\n",
      "Congratulations!!!\n"
     ]
    }
   ],
   "source": [
    "import random\n",
    "x=random.randint(1,100)\n",
    "print(\"--------Guess A Number--------\")\n",
    "y=int(input('You wanna play? Choose 1 to begin or 2 for exit.\\n'))\n",
    "tries=0\n",
    "if y==2:\n",
    "    print('Bye!')\n",
    "\n",
    "elif y==1:\n",
    "    num=0\n",
    "    while num!=x:\n",
    "        \n",
    "        num=(input('Guess a number between 1-100 (or 999 for exit):\\t'))\n",
    "        if not num.isdigit():\n",
    "           print(\"Wrong input\")\n",
    "           continue\n",
    "        else:\n",
    "            num=int(num)\n",
    "            if num==999:\n",
    "                      print(\"End of game.\")\n",
    "                      break\n",
    "        \n",
    "            if num<1 or num>100:\n",
    "                      print(\"Careful! Number is not in the limits.\")\n",
    "                      continue\n",
    "            if num>x:\n",
    "                      print('NO, choose a smaller one. \\n')\n",
    "                      tries=tries+1\n",
    "                      continue\n",
    "            if num<x :\n",
    "                      print('NO, choose a bigger one. \\n')\n",
    "                      tries=tries+1\n",
    "                      continue\n",
    "        \n",
    "        \n",
    "    else: \n",
    "        print('\\n You find it after {} tries.\\n'.format(tries+1))\n",
    "        print('Congratulations!!!')\n",
    "      \n",
    "           \n",
    "else:\n",
    " print('Εrror. Try again from the beginning.')"
   ]
  },
  {
   "cell_type": "code",
   "execution_count": null,
   "metadata": {
    "collapsed": true
   },
   "outputs": [],
   "source": []
  }
 ],
 "metadata": {
  "kernelspec": {
   "display_name": "Python 3",
   "language": "python",
   "name": "python3"
  },
  "language_info": {
   "codemirror_mode": {
    "name": "ipython",
    "version": 3
   },
   "file_extension": ".py",
   "mimetype": "text/x-python",
   "name": "python",
   "nbconvert_exporter": "python",
   "pygments_lexer": "ipython3",
   "version": "3.6.3"
  }
 },
 "nbformat": 4,
 "nbformat_minor": 2
}
